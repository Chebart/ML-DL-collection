{
 "cells": [
  {
   "cell_type": "code",
   "execution_count": null,
   "metadata": {},
   "outputs": [],
   "source": [
    "# import necessary libraries\n",
    "import torch\n",
    "import torch.nn as nn"
   ]
  },
  {
   "cell_type": "code",
   "execution_count": 2,
   "metadata": {},
   "outputs": [],
   "source": [
    "# We use MaxPooling after 1,2,5 blocks,\n",
    "# ReLU after every conv or fc layer,\n",
    "# Dropout with p=0.5 before 1,2 fc layers,\n",
    "# Response-normalization layers follow the first and second convolutional layers\n",
    "# To see more, read the paper https://proceedings.neurips.cc/paper/2012/file/c399862d3b9d6b76c8436e924a68c45b-Paper.pdf\n",
    "class AlexNet(nn.Module):\n",
    "    def __init__(self,in_channels,num_classes):\n",
    "        super(AlexNet,self).__init__()\n",
    "        self.net = nn.Sequential(\n",
    "            # first block\n",
    "            nn.Conv2d(in_channels,96,kernel_size=11,stride=4,padding=2),\n",
    "            nn.ReLU(),\n",
    "            nn.LocalResponseNorm(size=5, alpha=0.0001, beta=0.75, k=2),\n",
    "            nn.MaxPool2d(kernel_size=(2,2),stride=2),\n",
    "            # second block\n",
    "            nn.Conv2d(96,256,kernel_size=5,stride=1,padding=2),\n",
    "            nn.ReLU(),\n",
    "            nn.LocalResponseNorm(size=5, alpha=0.0001, beta=0.75, k=2),\n",
    "            nn.MaxPool2d(kernel_size=(2,2),stride=2),\n",
    "            # third block\n",
    "            nn.Conv2d(256,384,kernel_size=3,stride=1,padding=1),\n",
    "            nn.ReLU(),\n",
    "            # fourth block\n",
    "            nn.Conv2d(384,384,kernel_size=3,stride=1,padding=1),\n",
    "            nn.ReLU(),\n",
    "            # fifth block\n",
    "            nn.Conv2d(384,256,kernel_size=3,stride=1,padding=1),\n",
    "            nn.ReLU(),\n",
    "            nn.MaxPool2d(kernel_size=(2,2),stride=2)\n",
    "        )\n",
    "        self.classifier = nn.Sequential(\n",
    "            nn.Dropout(p=0.5),\n",
    "            nn.Linear(6*6*256,4096),\n",
    "            nn.ReLU(),\n",
    "            nn.Dropout(p=0.5),\n",
    "            nn.Linear(4096,num_classes),\n",
    "            nn.ReLU(),\n",
    "            nn.Linear(num_classes,num_classes)\n",
    "        )\n",
    "\n",
    "    def forward(self,x):\n",
    "        x = self.net(x)\n",
    "        x = x.reshape(x.shape[0],-1)\n",
    "        x = self.classifier(x)\n",
    "        return x"
   ]
  },
  {
   "cell_type": "code",
   "execution_count": 3,
   "metadata": {},
   "outputs": [],
   "source": [
    "# create AlexNet\n",
    "def alexnet(in_channels=3,num_classes=1000):\n",
    "    return AlexNet(in_channels,num_classes)"
   ]
  },
  {
   "cell_type": "code",
   "execution_count": 4,
   "metadata": {},
   "outputs": [],
   "source": [
    "# test the net architecture\n",
    "def test():\n",
    "    x = torch.rand(2,3,224,224)\n",
    "    net = alexnet()\n",
    "    y = net(x)\n",
    "    print(y.shape)"
   ]
  },
  {
   "cell_type": "code",
   "execution_count": 5,
   "metadata": {},
   "outputs": [
    {
     "name": "stdout",
     "output_type": "stream",
     "text": [
      "torch.Size([2, 1000])\n"
     ]
    }
   ],
   "source": [
    "test()"
   ]
  }
 ],
 "metadata": {
  "kernelspec": {
   "display_name": "Python 3.8.0 64-bit",
   "language": "python",
   "name": "python3"
  },
  "language_info": {
   "codemirror_mode": {
    "name": "ipython",
    "version": 3
   },
   "file_extension": ".py",
   "mimetype": "text/x-python",
   "name": "python",
   "nbconvert_exporter": "python",
   "pygments_lexer": "ipython3",
   "version": "3.8.0"
  },
  "orig_nbformat": 4,
  "vscode": {
   "interpreter": {
    "hash": "a14e8f5ab3b28230cbcab04c68e03313c17b063e7274313dff80aca90639841b"
   }
  }
 },
 "nbformat": 4,
 "nbformat_minor": 2
}
