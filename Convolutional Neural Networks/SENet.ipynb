{
 "cells": [
  {
   "cell_type": "code",
   "execution_count": 37,
   "metadata": {},
   "outputs": [],
   "source": [
    "import torch\n",
    "import torch.nn as nn"
   ]
  },
  {
   "cell_type": "code",
   "execution_count": 38,
   "metadata": {},
   "outputs": [],
   "source": [
    "# SENet block:\n",
    "\n",
    "# convolution 1х1\n",
    "# batchnorm\n",
    "# ReLU\n",
    "\n",
    "# convolution 3х3\n",
    "# batchnorm\n",
    "# ReLU\n",
    "\n",
    "# convolution 1х1\n",
    "# batchnorm\n",
    "# ReLU\n",
    "\n",
    "# SENet branch\n",
    "\n",
    "#skip connection\n",
    "# ReLU\n",
    "\n",
    "class se_block(nn.Module):\n",
    "  def __init__(self, in_channels, out_channels, identity_downsample):\n",
    "    super(se_block,self).__init__()\n",
    "    self.conv1 = nn.Conv2d(in_channels,out_channels//4,kernel_size=1,stride=1,padding=0)\n",
    "    self.bn1 = nn.BatchNorm2d(out_channels//4)\n",
    "    self.conv2 = nn.Conv2d(out_channels//4,out_channels//4,kernel_size=3,stride=2 if identity_downsample else 1,padding=1)\n",
    "    self.conv3 = nn.Conv2d(out_channels//4,out_channels,kernel_size=1,stride=1,padding=0)\n",
    "    self.bn2 = nn.BatchNorm2d(out_channels)\n",
    "    self.relu = nn.ReLU()\n",
    "    self.identity_downsample = identity_downsample\n",
    "    self.shortcut = nn.Sequential()\n",
    "\n",
    "    # SENet part\n",
    "    self.gl_avg_pool = nn.AdaptiveAvgPool2d(output_size=1)\n",
    "    self.conv4 = nn.Conv2d(out_channels,out_channels//16,kernel_size=1,stride=1)\n",
    "    self.conv5 = nn.Conv2d(out_channels//16,out_channels,kernel_size=1,stride=1)\n",
    "    self.sigmoid = nn.Sigmoid()\n",
    "\n",
    "    # if skip connnection has additional block\n",
    "    if self.identity_downsample or in_channels != out_channels:\n",
    "        self.shortcut = nn.Sequential(\n",
    "              nn.Conv2d(in_channels, out_channels, kernel_size=1, stride=2 if self.identity_downsample else 1),\n",
    "              nn.BatchNorm2d(out_channels)\n",
    "          )\n",
    "  \n",
    "  # x out_channels -> x//4 out_channels, x//4 out_channels -> x out_channels\n",
    "  def forward(self,x):\n",
    "    shortcut = self.shortcut(x)\n",
    "\n",
    "    x = self.relu(self.bn1(self.conv1(x)))\n",
    "    x = self.relu(self.bn1(self.conv2(x)))\n",
    "    x = self.relu(self.bn2(self.conv3(x)))\n",
    "\n",
    "    # SENet part begins\n",
    "    y = self.sigmoid(self.conv5(self.relu(self.conv4(self.gl_avg_pool(x)))))\n",
    "    # Multiply 2 branches\n",
    "    x *= y\n",
    "\n",
    "    x += shortcut\n",
    "    x = self.relu(x)\n",
    "\n",
    "    return x\n"
   ]
  },
  {
   "cell_type": "code",
   "execution_count": 39,
   "metadata": {},
   "outputs": [],
   "source": [
    "# SENet\n",
    "class SENet(nn.Module):\n",
    "  def __init__(self,block,layers, image_channels, num_classes):\n",
    "    super(SENet,self).__init__()\n",
    "    # First convolution out_channels equals to 64\n",
    "    self.in_channels = 64\n",
    "    # First block is different since\n",
    "    # it has 7х7 convolutional\n",
    "    self.conv1 = nn.Conv2d(image_channels,self.in_channels,kernel_size=7,stride=2,padding=3)\n",
    "    self.bn1 = nn.BatchNorm2d(self.in_channels)\n",
    "    self.relu = nn.ReLU()\n",
    "    self.maxpool = nn.MaxPool2d(kernel_size=3,stride=2,padding=1)\n",
    "\n",
    "    #se_block layers\n",
    "    self.layer1 = self.make_layer(block, layers[0], out_channels=256, identity_downsample=False)\n",
    "    self.layer2 = self.make_layer(block, layers[1], out_channels=512, identity_downsample=True)\n",
    "    self.layer3 = self.make_layer(block, layers[2], out_channels=1024, identity_downsample=True)\n",
    "    self.layer4 = self.make_layer(block, layers[3], out_channels=2048, identity_downsample=True)\n",
    "\n",
    "    # Before fully connected layer we use AveregePooling\n",
    "    self.avgpool = nn.AdaptiveAvgPool2d((1,1))\n",
    "    self.fc = nn.Linear(512*4,num_classes)\n",
    "\n",
    "  # Layer creation function\n",
    "  def make_layer(self, block, num_residual_blocks, out_channels, identity_downsample):\n",
    "    # We increase the number of channels in the 1st layer of each block\n",
    "    layers = []\n",
    "    layers.append(block(self.in_channels, out_channels, identity_downsample))\n",
    "    self.in_channels = out_channels\n",
    "\n",
    "    for _ in range(num_residual_blocks - 1):\n",
    "      layers.append(block(self.in_channels, out_channels, False))\n",
    "\n",
    "    return nn.Sequential(*layers)\n",
    "\n",
    "  def forward(self,x):\n",
    "    x = self.maxpool(self.relu(self.bn1(self.conv1(x))))\n",
    "\n",
    "    x = self.layer1(x)\n",
    "    x = self.layer2(x)\n",
    "    x = self.layer3(x)\n",
    "    x = self.layer4(x)\n",
    "\n",
    "    x = self.avgpool(x)\n",
    "    x = x.reshape(x.shape[0],-1)\n",
    "    x = self.fc(x)\n",
    "    return x"
   ]
  },
  {
   "cell_type": "code",
   "execution_count": 40,
   "metadata": {},
   "outputs": [],
   "source": [
    "# SE-ResNet with 50 layers\n",
    "def SE_ResNet50(img_channels=3,num_classes=1000):\n",
    "    return SENet(se_block,[3,4,6,3],img_channels,num_classes)"
   ]
  },
  {
   "cell_type": "code",
   "execution_count": 41,
   "metadata": {},
   "outputs": [],
   "source": [
    "# Test\n",
    "def test():\n",
    "  net = SE_ResNet50()\n",
    "  x = torch.rand(2,3,224,224)\n",
    "  y = net(x)\n",
    "  print(y.shape)"
   ]
  },
  {
   "cell_type": "code",
   "execution_count": 42,
   "metadata": {},
   "outputs": [
    {
     "name": "stdout",
     "output_type": "stream",
     "text": [
      "torch.Size([2, 1000])\n"
     ]
    }
   ],
   "source": [
    "test()"
   ]
  }
 ],
 "metadata": {
  "interpreter": {
   "hash": "e205ded580d7b0d767dc6df348d09affc283176f4ed765a6df5bee7c00630844"
  },
  "kernelspec": {
   "display_name": "Python 3.9.6 64-bit (system)",
   "language": "python",
   "name": "python3"
  },
  "language_info": {
   "codemirror_mode": {
    "name": "ipython",
    "version": 3
   },
   "file_extension": ".py",
   "mimetype": "text/x-python",
   "name": "python",
   "nbconvert_exporter": "python",
   "pygments_lexer": "ipython3",
   "version": "3.10.0"
  },
  "orig_nbformat": 4
 },
 "nbformat": 4,
 "nbformat_minor": 2
}
