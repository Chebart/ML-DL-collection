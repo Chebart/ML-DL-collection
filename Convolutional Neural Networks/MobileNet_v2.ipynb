{
 "cells": [
  {
   "cell_type": "code",
   "execution_count": 113,
   "metadata": {},
   "outputs": [],
   "source": [
    "# import necessary libraries\n",
    "import torch\n",
    "import torch.nn as nn"
   ]
  },
  {
   "cell_type": "code",
   "execution_count": 114,
   "metadata": {},
   "outputs": [],
   "source": [
    "# create CNNBlock to simplify implementation\n",
    "# unlike MobileNet_v1 we use ReLU6\n",
    "class CNNBlock(nn.Module):\n",
    "    def __init__(self,in_channels,out_channels,kernel_size,stride):\n",
    "        super(CNNBlock,self).__init__()\n",
    "        self.conv = nn.Conv2d(in_channels,out_channels,kernel_size,stride)\n",
    "        self.bn = nn.BatchNorm2d(out_channels)\n",
    "        self.relu = nn.ReLU6()\n",
    "\n",
    "\n",
    "    def forward(self,x):\n",
    "        return self.relu(self.bn(self.conv(x)))"
   ]
  },
  {
   "cell_type": "code",
   "execution_count": 115,
   "metadata": {},
   "outputs": [],
   "source": [
    "# Pointwise conv - expansion layer\n",
    "# it creates a mapping of the input tensor in a high-dimensional space(manifold of interests)\n",
    "# then comes the depthwise conv. \n",
    "# in the end there is another 1x1 conv, it stacks \n",
    "# the high dimensionality manifold of interests into\n",
    "# a subspace of lower dimensionality without loss of information.\n",
    "\n",
    "# Residuals improve the ability of a gradient to propagate\n",
    "# across multiplier layers\n",
    "\n",
    "class BottleNeck(nn.Module):\n",
    "    def __init__(self,in_channels,out_channels,expansion,stride):\n",
    "        super(BottleNeck,self).__init__()\n",
    "        self.expansion = expansion\n",
    "        self.stride = stride\n",
    "        self.in_channels = in_channels\n",
    "        self.out_channels = out_channels\n",
    "        \n",
    "        self.pointwise = nn.Conv2d(in_channels,in_channels*self.expansion,kernel_size=1,stride=1,padding=0)\n",
    "        self.bn1 = nn.BatchNorm2d(in_channels*self.expansion)\n",
    "        self.depthwise = nn.Conv2d(in_channels*self.expansion,in_channels*self.expansion,kernel_size=3,stride=self.stride,padding=1,\n",
    "                                    groups=in_channels*self.expansion)\n",
    "        self.bn2 = nn.BatchNorm2d(in_channels*self.expansion)\n",
    "        self.conv = nn.Conv2d(in_channels*self.expansion,out_channels,kernel_size=1,stride=1)\n",
    "        self.bn3 = nn.BatchNorm2d(out_channels)\n",
    "        self.relu6 = nn.ReLU6()\n",
    "        self.relu = nn.ReLU()\n",
    "        layers = []\n",
    "\n",
    "        # if expansion==1, it is simple DepthWiseCNNBlock from MobileNet_v1\n",
    "        if self.expansion!=1:\n",
    "            layers.append(nn.Sequential(\n",
    "                self.pointwise,\n",
    "                self.bn1,\n",
    "                self.relu6,\n",
    "                ))\n",
    "        \n",
    "        layers.extend(nn.Sequential(\n",
    "                self.depthwise,\n",
    "                self.bn2,\n",
    "                self.relu6,\n",
    "\n",
    "                self.conv,\n",
    "                self.bn3,\n",
    "                self.relu\n",
    "        ))\n",
    "\n",
    "        self.layers = nn.Sequential(*layers)    \n",
    "            \n",
    "\n",
    "    #condition of using skip connections\n",
    "    def forward(self,x):\n",
    "        if self.stride==1 and self.in_channels==self.out_channels:\n",
    "            x = x + self.layers(x)\n",
    "        else:\n",
    "            x = self.layers(x)\n",
    "\n",
    "        return x"
   ]
  },
  {
   "cell_type": "code",
   "execution_count": 116,
   "metadata": {},
   "outputs": [],
   "source": [
    "# In this version there are\n",
    "# inverted Residuals and Linear Bottlenecks\n",
    "# To see more, read the paper https://arxiv.org/pdf/1801.04381.pdf\n",
    "class MobileNet_v2(nn.Module):\n",
    "    def __init__(self,img_channels,num_classes):\n",
    "        super(MobileNet_v2,self).__init__()\n",
    "        \n",
    "        model = []\n",
    "        self.in_channels = 32\n",
    "        self.conv1 = CNNBlock(img_channels,self.in_channels,kernel_size=3,stride=2)\n",
    "        self.conv2 = CNNBlock(320,1280,kernel_size=1,stride=1)\n",
    "        self.conv3 = CNNBlock(1280,num_classes,kernel_size=1,stride=1)\n",
    "        self.avg_pool = nn.AdaptiveAvgPool2d(1)\n",
    "\n",
    "        # t,c,n,s - expansion factor,output channels,number of blocks,stride\n",
    "        self.bottlenecks = [\n",
    "            [1,16,1,1],\n",
    "            [6,24,2,2],\n",
    "            [6,32,3,2],\n",
    "            [6,64,4,2],\n",
    "            [6,96,3,1],\n",
    "            [6,160,3,2],\n",
    "            [6,320,1,1]\n",
    "        ]\n",
    "\n",
    "        for t,c,n,s in self.bottlenecks:\n",
    "            for i in range(n):\n",
    "                model.append(BottleNeck(self.in_channels,c,t,s))\n",
    "                self.in_channels = c\n",
    "\n",
    "        self.model = nn.Sequential(*model)\n",
    "\n",
    "    def forward(self,x):\n",
    "        x = self.conv1(x)\n",
    "        x = self.model(x)\n",
    "        x = self.conv2(x)\n",
    "        x = self.avg_pool(x)\n",
    "        x = self.conv3(x)\n",
    "        # flatten x\n",
    "        x = x.view(-1, 1000)\n",
    "        return x \n"
   ]
  },
  {
   "cell_type": "code",
   "execution_count": 117,
   "metadata": {},
   "outputs": [],
   "source": [
    "# create MobileNet_v2\n",
    "def mobile_net_v2(img_channels=3,num_classes=1000):\n",
    "    return MobileNet_v2(img_channels,num_classes)"
   ]
  },
  {
   "cell_type": "code",
   "execution_count": 118,
   "metadata": {},
   "outputs": [],
   "source": [
    "# test the net architecture\n",
    "def test():\n",
    "    net = mobile_net_v2()\n",
    "    x = torch.rand(2,3,224,224)\n",
    "    y = net(x)\n",
    "    print(y.shape)"
   ]
  },
  {
   "cell_type": "code",
   "execution_count": 119,
   "metadata": {},
   "outputs": [
    {
     "name": "stdout",
     "output_type": "stream",
     "text": [
      "torch.Size([2, 1000])\n"
     ]
    }
   ],
   "source": [
    "test()"
   ]
  }
 ],
 "metadata": {
  "kernelspec": {
   "display_name": "Python 3.8.0 64-bit",
   "language": "python",
   "name": "python3"
  },
  "language_info": {
   "codemirror_mode": {
    "name": "ipython",
    "version": 3
   },
   "file_extension": ".py",
   "mimetype": "text/x-python",
   "name": "python",
   "nbconvert_exporter": "python",
   "pygments_lexer": "ipython3",
   "version": "3.8.0"
  },
  "orig_nbformat": 4,
  "vscode": {
   "interpreter": {
    "hash": "a14e8f5ab3b28230cbcab04c68e03313c17b063e7274313dff80aca90639841b"
   }
  }
 },
 "nbformat": 4,
 "nbformat_minor": 2
}
