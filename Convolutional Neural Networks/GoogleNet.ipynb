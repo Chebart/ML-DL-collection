{
 "cells": [
  {
   "cell_type": "code",
   "execution_count": 50,
   "metadata": {},
   "outputs": [],
   "source": [
    "# import necessary libraries\n",
    "import torch\n",
    "import torch.nn as nn"
   ]
  },
  {
   "cell_type": "code",
   "execution_count": 51,
   "metadata": {},
   "outputs": [],
   "source": [
    "# create convolutional block\n",
    "class Conv_Block(nn.Module):\n",
    "    def __init__(self,in_channels,out_channels,kernel_size,stride,padding=0):\n",
    "        super(Conv_Block,self).__init__()\n",
    "        self.conv = nn.Conv2d(in_channels,out_channels,kernel_size,stride,padding)\n",
    "        self.relu = nn.ReLU()\n",
    "\n",
    "    def forward(self,x):\n",
    "        return self.relu(self.conv(x))"
   ]
  },
  {
   "cell_type": "code",
   "execution_count": 52,
   "metadata": {},
   "outputs": [],
   "source": [
    "# It's a combination of filters with various kernel_size to\n",
    "# get features with different size. It increases accuracy.\n",
    "class InceptionBlock(nn.Module):\n",
    "    def __init__(self,in_channels,out_channels):\n",
    "        super(InceptionBlock,self).__init__()\n",
    "        self.branch1 = Conv_Block(in_channels,out_channels[0],kernel_size=1,stride=1)\n",
    "        self.branch2 = nn.Sequential(Conv_Block(in_channels,out_channels[1],kernel_size=1,stride=1),\n",
    "                                    Conv_Block(out_channels[1],out_channels[2],kernel_size=3,stride=1,padding=1))\n",
    "        self.branch3 = nn.Sequential(Conv_Block(in_channels,out_channels[3],kernel_size=1,stride=1),\n",
    "                                    Conv_Block(out_channels[3],out_channels[4],kernel_size=5,stride=1,padding=2))\n",
    "        self.branch4 = nn.Sequential(nn.MaxPool2d(kernel_size=(3,3),stride=1,padding=1),\n",
    "                                    Conv_Block(in_channels,out_channels[5],kernel_size=1,stride=1))\n",
    "    \n",
    "    def forward(self,x):\n",
    "        # 1 branch\n",
    "        x1 = self.branch1(x)\n",
    "        # 2 branch  \n",
    "        x2 = self.branch2(x)\n",
    "        # 3 branch\n",
    "        x3 = self.branch3(x)\n",
    "        # 4 branch\n",
    "        x4 = self.branch4(x)\n",
    "        # concatanate branches\n",
    "        x = torch.cat((x1,x2,x3,x4),dim=1)\n",
    "        return x"
   ]
  },
  {
   "cell_type": "code",
   "execution_count": 53,
   "metadata": {},
   "outputs": [],
   "source": [
    "# Distinctive features of GoogleNet:\n",
    "# 1)InceptionBlock\n",
    "# 2)Use dimension reduction(1x1 conv)\n",
    "# To see more, read the paper https://arxiv.org/pdf/1409.4842.pdf\n",
    "class GoogleNet(nn.Module):\n",
    "    def __init__(self,in_channels,num_classes):\n",
    "        super(GoogleNet,self).__init__()\n",
    "        self.max_pool = nn.MaxPool2d(kernel_size=(3,3),stride=2,padding=1)\n",
    "        self.conv = nn.Sequential(\n",
    "                Conv_Block(in_channels,64,kernel_size=7,stride=2,padding=3),\n",
    "                self.max_pool,\n",
    "                Conv_Block(64, 64, kernel_size=1, stride=1),\n",
    "                Conv_Block(64,192,kernel_size=3,stride=1,padding=1),\n",
    "                self.max_pool\n",
    "        )\n",
    "        # [1x1,3x3_red,3x3,5x5_red,5x5,pool proj]\n",
    "        self.inception_block1 = nn.Sequential(\n",
    "                InceptionBlock(192,[64,96,128,16,32,32]),\n",
    "                InceptionBlock(256,[128,128,192,32,96,64])\n",
    "        )\n",
    "        self.inception_block2 = nn.Sequential(\n",
    "                InceptionBlock(480,[192,96,208,16,48,64]),\n",
    "                InceptionBlock(512,[160,112,224,24,64,64]),\n",
    "                InceptionBlock(512,[128,128,256,24,64,64]),\n",
    "                InceptionBlock(512,[112,144,288,32,64,64]),\n",
    "                InceptionBlock(528,[256,160,320,32,128,128])\n",
    "        )\n",
    "        self.inception_block3 = nn.Sequential(\n",
    "                InceptionBlock(832,[256,160,320,32,128,128]),\n",
    "                InceptionBlock(832,[384,192,384,48,128,128])\n",
    "        )\n",
    "        self.avg_pool = nn.AvgPool2d(kernel_size=(7,7),stride=1)\n",
    "        self.dropout = nn.Dropout(p=0.4)\n",
    "        self.fc = nn.Linear(1024,num_classes)\n",
    "        self.softmax = nn.Softmax(dim=1)\n",
    "\n",
    "    def forward(self,x):\n",
    "        x = self.conv(x)\n",
    "        # block1\n",
    "        x = self.inception_block1(x)\n",
    "        x = self.max_pool(x)\n",
    "        # block2\n",
    "        x = self.inception_block2(x)\n",
    "        x = self.max_pool(x)\n",
    "        # block3\n",
    "        x = self.inception_block3(x)\n",
    "        x = self.avg_pool(x)\n",
    "        x = self.dropout(x)\n",
    "        # flatten x\n",
    "        x = x.view(x.size(0), -1)\n",
    "        x = self.fc(x)\n",
    "        return self.softmax(x)"
   ]
  },
  {
   "cell_type": "code",
   "execution_count": 54,
   "metadata": {},
   "outputs": [],
   "source": [
    "# create GoogleNet\n",
    "def googlenet(img_channels=3,num_classes=1000):\n",
    "    return GoogleNet(img_channels,num_classes)"
   ]
  },
  {
   "cell_type": "code",
   "execution_count": 55,
   "metadata": {},
   "outputs": [],
   "source": [
    "# test the net architecture\n",
    "def test():\n",
    "  net = googlenet()\n",
    "  x = torch.rand(2,3,224,224)\n",
    "  y = net(x)\n",
    "  print(y.shape)"
   ]
  },
  {
   "cell_type": "code",
   "execution_count": 56,
   "metadata": {},
   "outputs": [
    {
     "name": "stdout",
     "output_type": "stream",
     "text": [
      "torch.Size([2, 1000])\n"
     ]
    }
   ],
   "source": [
    "test()"
   ]
  }
 ],
 "metadata": {
  "kernelspec": {
   "display_name": "Python 3.8.0 64-bit",
   "language": "python",
   "name": "python3"
  },
  "language_info": {
   "codemirror_mode": {
    "name": "ipython",
    "version": 3
   },
   "file_extension": ".py",
   "mimetype": "text/x-python",
   "name": "python",
   "nbconvert_exporter": "python",
   "pygments_lexer": "ipython3",
   "version": "3.8.0"
  },
  "orig_nbformat": 4,
  "vscode": {
   "interpreter": {
    "hash": "a14e8f5ab3b28230cbcab04c68e03313c17b063e7274313dff80aca90639841b"
   }
  }
 },
 "nbformat": 4,
 "nbformat_minor": 2
}
