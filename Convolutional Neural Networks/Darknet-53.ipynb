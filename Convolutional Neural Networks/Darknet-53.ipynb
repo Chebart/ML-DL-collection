{
 "cells": [
  {
   "cell_type": "code",
   "execution_count": 137,
   "metadata": {},
   "outputs": [],
   "source": [
    "import torch\n",
    "import torch.nn as nn"
   ]
  },
  {
   "cell_type": "code",
   "execution_count": 138,
   "metadata": {},
   "outputs": [],
   "source": [
    "# Configuration of Darknet53\n",
    "# (out_channels,kernel,stride) - convolution block\n",
    "# [in_channels,num_layers] - residual block\n",
    "config = [\n",
    "        (32, 3, 1),\n",
    "        (64, 3, 2),\n",
    "        [64,1],\n",
    "        (128, 3, 2),\n",
    "        [128,2],\n",
    "        (256, 3, 2),\n",
    "        [256,8],\n",
    "        (512, 3, 2),\n",
    "        [512,8],\n",
    "        (1024, 3, 2),\n",
    "        [1024,4]]"
   ]
  },
  {
   "cell_type": "code",
   "execution_count": 139,
   "metadata": {},
   "outputs": [],
   "source": [
    "class CNNBlock(nn.Module):\n",
    "    def __init__(self,in_channels,out_channels, kernel_size, stride, padding, bn_act=True):\n",
    "        super(CNNBlock,self).__init__()\n",
    "        self.conv = nn.Conv2d(in_channels,out_channels, kernel_size, stride, padding, bias= not bn_act)\n",
    "        self.bn = nn.BatchNorm2d(out_channels)\n",
    "        self.leaky_relu = nn.LeakyReLU()\n",
    "        self.use_bn_act = bn_act\n",
    "\n",
    "    def forward(self, x):\n",
    "        if self.use_bn_act:\n",
    "            return self.leaky_relu(self.bn(self.conv(x)))\n",
    "        else:\n",
    "            return self.conv(x)"
   ]
  },
  {
   "cell_type": "code",
   "execution_count": 140,
   "metadata": {},
   "outputs": [],
   "source": [
    "class ResidualBlock(nn.Module):\n",
    "    def __init__(self,in_channels,use_residual=True, num_repeats=1):\n",
    "        super(ResidualBlock,self).__init__()\n",
    "        self.layers = nn.ModuleList()\n",
    "        for _ in range(num_repeats):\n",
    "            self.layers += [nn.Sequential(\n",
    "                    CNNBlock(in_channels, in_channels // 2, kernel_size=1, stride=1, padding=0),\n",
    "                    CNNBlock(in_channels // 2, in_channels, kernel_size=3, stride=1, padding=1)\n",
    "                )]\n",
    "        \n",
    "        self.use_residual = use_residual\n",
    "\n",
    "    def forward(self, x):\n",
    "        for layer in self.layers:\n",
    "            if self.use_residual:\n",
    "                x = x + layer(x)\n",
    "            else:\n",
    "                x = layer(x)\n",
    "\n",
    "        return x\n"
   ]
  },
  {
   "cell_type": "code",
   "execution_count": 141,
   "metadata": {},
   "outputs": [],
   "source": [
    "# This net is used in YOLOv3 as backbone\n",
    "class Darknet53(nn.Module):\n",
    "    def __init__(self,image_channels,num_classes):\n",
    "        super(Darknet53,self).__init__()\n",
    "        self.num_classes = num_classes\n",
    "        self.in_channels = image_channels\n",
    "        self.layers = self.create_layers()\n",
    "\n",
    "    def create_layers(self):\n",
    "        layers = nn.ModuleList()\n",
    "\n",
    "        for module in config:\n",
    "            if isinstance(module, tuple):\n",
    "                out_channels, kernel_size, stride = module\n",
    "                layers.append(\n",
    "                    CNNBlock(\n",
    "                        self.in_channels,\n",
    "                        out_channels,\n",
    "                        kernel_size=kernel_size,\n",
    "                        stride=stride,\n",
    "                        padding=1 if kernel_size == 3 else 0\n",
    "                    )\n",
    "                )\n",
    "                self.in_channels = out_channels\n",
    "\n",
    "            elif isinstance(module, list):\n",
    "                layers.append(ResidualBlock(module[0], num_repeats=module[1]))\n",
    "\n",
    "        return layers\n",
    "    \n",
    "    def forward(self, x):\n",
    "        for layer in self.layers:\n",
    "            x = layer(x)\n",
    "        return x\n",
    "        "
   ]
  },
  {
   "cell_type": "code",
   "execution_count": 142,
   "metadata": {},
   "outputs": [],
   "source": [
    "# Darknet53\n",
    "def darknet53(img_channels=3,num_classes=1000):\n",
    "    return Darknet53(img_channels,num_classes)"
   ]
  },
  {
   "cell_type": "code",
   "execution_count": 143,
   "metadata": {},
   "outputs": [],
   "source": [
    "# Test\n",
    "def test():\n",
    "  net = darknet53()\n",
    "  x = torch.rand(2,3,224,224)\n",
    "  y = net(x)\n",
    "  print(y.shape)"
   ]
  },
  {
   "cell_type": "code",
   "execution_count": 144,
   "metadata": {},
   "outputs": [
    {
     "name": "stdout",
     "output_type": "stream",
     "text": [
      "torch.Size([2, 1024, 7, 7])\n"
     ]
    }
   ],
   "source": [
    "test()"
   ]
  }
 ],
 "metadata": {
  "interpreter": {
   "hash": "e205ded580d7b0d767dc6df348d09affc283176f4ed765a6df5bee7c00630844"
  },
  "kernelspec": {
   "display_name": "Python 3.9.6 64-bit (system)",
   "language": "python",
   "name": "python3"
  },
  "language_info": {
   "codemirror_mode": {
    "name": "ipython",
    "version": 3
   },
   "file_extension": ".py",
   "mimetype": "text/x-python",
   "name": "python",
   "nbconvert_exporter": "python",
   "pygments_lexer": "ipython3",
   "version": "3.10.0"
  },
  "orig_nbformat": 4
 },
 "nbformat": 4,
 "nbformat_minor": 2
}
