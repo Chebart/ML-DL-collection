{
 "cells": [
  {
   "cell_type": "code",
   "execution_count": 8,
   "metadata": {},
   "outputs": [],
   "source": [
    "# import necessary libraries\n",
    "import torch\n",
    "import torch.nn as nn"
   ]
  },
  {
   "cell_type": "code",
   "execution_count": 9,
   "metadata": {},
   "outputs": [],
   "source": [
    "# create convolutional block\n",
    "class conv_Block(nn.Module):\n",
    "    def __init__(self,in_channels,out_channels,kernel=3,padding=1):\n",
    "        super(conv_Block,self).__init__()\n",
    "        self.conv = nn.Conv2d(in_channels,out_channels,kernel_size=kernel,stride=1,padding=padding)\n",
    "        self.relu = nn.ReLU()\n",
    "\n",
    "    def forward(self,x):\n",
    "        return self.relu(self.conv(x))"
   ]
  },
  {
   "cell_type": "code",
   "execution_count": 10,
   "metadata": {},
   "outputs": [],
   "source": [
    "# We can divide the net into 6 parts:\n",
    "# 5 parts consist of conv_blocks(conv+relu) and in the end there is maxpolling,\n",
    "# the last part is a classifier: there are fc layers and softmax in the end.\n",
    "# To see more, read the paper https://arxiv.org/pdf/1409.1556.pdf\n",
    "class VGG_16(nn.Module):\n",
    "    def __init__(self,in_channels,num_classes):\n",
    "        super().__init__()\n",
    "\n",
    "        # 1 part\n",
    "        self.seq1 = nn.Sequential(\n",
    "                conv_Block(in_channels,64),\n",
    "                conv_Block(64,64),\n",
    "                nn.MaxPool2d(kernel_size=(2,2),stride=2))\n",
    "\n",
    "        # 2 part\n",
    "        self.seq2 = nn.Sequential(\n",
    "                conv_Block(64,128),\n",
    "                conv_Block(128,128),\n",
    "                nn.MaxPool2d(kernel_size=(2,2),stride=2))\n",
    "\n",
    "        # 3 part\n",
    "        self.seq3 = nn.Sequential(\n",
    "                conv_Block(128,256),\n",
    "                conv_Block(256,256),\n",
    "                conv_Block(256,256,kernel=1,padding=0),\n",
    "                nn.MaxPool2d(kernel_size=(2,2),stride=2))\n",
    "\n",
    "        # 4 part\n",
    "        self.seq4 = nn.Sequential(\n",
    "                conv_Block(256,512),\n",
    "                conv_Block(512,512),\n",
    "                conv_Block(512,512,kernel=1,padding=0),\n",
    "                nn.MaxPool2d(kernel_size=(2,2),stride=2))\n",
    "\n",
    "        # 5 part\n",
    "        self.seq5 = nn.Sequential(\n",
    "                conv_Block(512,512),\n",
    "                conv_Block(512,512),\n",
    "                conv_Block(512,512,kernel=1,padding=0),\n",
    "                nn.MaxPool2d(kernel_size=(2,2),stride=2))\n",
    "        \n",
    "        self.classifier = nn.Sequential(\n",
    "                nn.Linear(512*7*7,4096),\n",
    "                nn.Linear(4096,num_classes),\n",
    "                nn.Linear(num_classes,num_classes),\n",
    "                nn.Softmax(dim=1))\n",
    "\n",
    "    def forward(self,x):\n",
    "        x = self.seq1(x)\n",
    "        x = self.seq2(x)\n",
    "        x = self.seq3(x)\n",
    "        x = self.seq4(x)\n",
    "        x = self.seq5(x)\n",
    "        # flatten x\n",
    "        x = x.view(x.size(0), -1)\n",
    "        x = self.classifier(x)\n",
    "        return x\n",
    "\n"
   ]
  },
  {
   "cell_type": "code",
   "execution_count": 11,
   "metadata": {},
   "outputs": [],
   "source": [
    "# create VGG-16\n",
    "def vgg_16(num_classes=1000,img_channels=3):\n",
    "    return VGG_16(img_channels,num_classes)"
   ]
  },
  {
   "cell_type": "code",
   "execution_count": 12,
   "metadata": {},
   "outputs": [],
   "source": [
    "# test the net architecture\n",
    "def test():\n",
    "    x = torch.rand(2,3,224,224)\n",
    "    net = vgg_16()\n",
    "    y = net(x)\n",
    "    print(y.shape)\n",
    "    "
   ]
  },
  {
   "cell_type": "code",
   "execution_count": 13,
   "metadata": {},
   "outputs": [
    {
     "name": "stdout",
     "output_type": "stream",
     "text": [
      "torch.Size([2, 1000])\n"
     ]
    }
   ],
   "source": [
    "test()"
   ]
  }
 ],
 "metadata": {
  "kernelspec": {
   "display_name": "Python 3.8.0 64-bit",
   "language": "python",
   "name": "python3"
  },
  "language_info": {
   "codemirror_mode": {
    "name": "ipython",
    "version": 3
   },
   "file_extension": ".py",
   "mimetype": "text/x-python",
   "name": "python",
   "nbconvert_exporter": "python",
   "pygments_lexer": "ipython3",
   "version": "3.8.0"
  },
  "orig_nbformat": 4,
  "vscode": {
   "interpreter": {
    "hash": "a14e8f5ab3b28230cbcab04c68e03313c17b063e7274313dff80aca90639841b"
   }
  }
 },
 "nbformat": 4,
 "nbformat_minor": 2
}
