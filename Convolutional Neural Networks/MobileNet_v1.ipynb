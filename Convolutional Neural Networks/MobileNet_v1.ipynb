{
 "cells": [
  {
   "cell_type": "code",
   "execution_count": 57,
   "metadata": {},
   "outputs": [],
   "source": [
    "# import necessary libraries\n",
    "import torch\n",
    "import torch.nn as nn"
   ]
  },
  {
   "cell_type": "code",
   "execution_count": 58,
   "metadata": {},
   "outputs": [],
   "source": [
    "# create CNNBlock to simplify implementation\n",
    "class CNNBlock(nn.Module):\n",
    "    def __init__(self,in_channels,out_channels):\n",
    "        super(CNNBlock,self).__init__()\n",
    "        self.conv = nn.Conv2d(in_channels,out_channels,kernel_size=3,stride=2)\n",
    "        self.bn = nn.BatchNorm2d(out_channels)\n",
    "        self.relu = nn.ReLU()\n",
    "\n",
    "    def forward(self,x):\n",
    "        return self.relu(self.bn(self.conv(x)))"
   ]
  },
  {
   "cell_type": "code",
   "execution_count": 59,
   "metadata": {},
   "outputs": [],
   "source": [
    "# We seperate the standard conv layer into\n",
    "# depthwise conv and pointwise conv.\n",
    "# It helps to reduce computation time and model size.\n",
    "class DepthWiseCNNBlock(nn.Module):\n",
    "    def __init__(self,in_channels,out_channels,stride=1,count=1):\n",
    "        super(DepthWiseCNNBlock,self).__init__()\n",
    "        self.depthwise = nn.Conv2d(in_channels,in_channels,kernel_size=3,stride=stride,padding=1,groups=in_channels,bias=False)\n",
    "        self.bn1 = nn.BatchNorm2d(in_channels)\n",
    "        self.pointwise = nn.Conv2d(in_channels,out_channels,kernel_size=1,stride=1,padding=0,bias=False)\n",
    "        self.bn2 = nn.BatchNorm2d(out_channels)\n",
    "        self.relu = nn.ReLU()\n",
    "        self.layers = nn.ModuleList()\n",
    "\n",
    "        # we use count because we need to repeat some blocks several times\n",
    "        for i in range(count):\n",
    "            self.layers+=[nn.Sequential(\n",
    "                self.depthwise,\n",
    "                self.bn1,\n",
    "                self.relu,\n",
    "                \n",
    "                self.pointwise,\n",
    "                self.bn2,\n",
    "                self.relu  \n",
    "            )]\n",
    "            \n",
    "    def forward(self,x):\n",
    "        for layer in self.layers:\n",
    "            x = layer(x)\n",
    "\n",
    "        return x\n"
   ]
  },
  {
   "cell_type": "code",
   "execution_count": 60,
   "metadata": {},
   "outputs": [],
   "source": [
    "# Distinctive features of MobileNet:\n",
    "# 1) no Maxpooling layers\n",
    "# 2) DepthWise and pointwise convolutional layers\n",
    "# To see more, read the paper https://arxiv.org/pdf/1704.04861.pdf\n",
    "class MobileNet_v1(nn.Module):\n",
    "    def __init__(self,img_channels,num_classes):\n",
    "        super(MobileNet_v1,self).__init__()\n",
    "        \n",
    "        self.model = nn.Sequential(\n",
    "            CNNBlock(img_channels,32),\n",
    "            DepthWiseCNNBlock(32,64),\n",
    "            DepthWiseCNNBlock(64,128,stride=2),\n",
    "            DepthWiseCNNBlock(128,128),\n",
    "            DepthWiseCNNBlock(128,256,stride=2),\n",
    "            DepthWiseCNNBlock(256,256),\n",
    "            DepthWiseCNNBlock(256,512,stride=2),\n",
    "            DepthWiseCNNBlock(512,512,count=5),\n",
    "            DepthWiseCNNBlock(512,1024,stride=2),\n",
    "            DepthWiseCNNBlock(1024,1024,stride=1),\n",
    "            nn.AvgPool2d(7)\n",
    "        )\n",
    "        self.fc = nn.Linear(1024,num_classes)\n",
    "\n",
    "    def forward(self,x):\n",
    "        x = self.model(x)\n",
    "        #flatten x\n",
    "        x = x.view(-1, 1024)\n",
    "        x = self.fc(x)\n",
    "        return x \n"
   ]
  },
  {
   "cell_type": "code",
   "execution_count": 61,
   "metadata": {},
   "outputs": [],
   "source": [
    "# create MobileNet_v1\n",
    "def mobile_net_v1(img_channels=3,num_classes=1000):\n",
    "    return MobileNet_v1(img_channels,num_classes)"
   ]
  },
  {
   "cell_type": "code",
   "execution_count": 62,
   "metadata": {},
   "outputs": [],
   "source": [
    "# test the net architecture\n",
    "def test():\n",
    "    net = mobile_net_v1()\n",
    "    x = torch.rand(2,3,224,224)\n",
    "    y = net(x)\n",
    "    print(y.shape)"
   ]
  },
  {
   "cell_type": "code",
   "execution_count": 63,
   "metadata": {},
   "outputs": [
    {
     "name": "stdout",
     "output_type": "stream",
     "text": [
      "torch.Size([2, 1000])\n"
     ]
    }
   ],
   "source": [
    "test()"
   ]
  }
 ],
 "metadata": {
  "kernelspec": {
   "display_name": "Python 3.8.0 64-bit",
   "language": "python",
   "name": "python3"
  },
  "language_info": {
   "codemirror_mode": {
    "name": "ipython",
    "version": 3
   },
   "file_extension": ".py",
   "mimetype": "text/x-python",
   "name": "python",
   "nbconvert_exporter": "python",
   "pygments_lexer": "ipython3",
   "version": "3.8.0"
  },
  "orig_nbformat": 4,
  "vscode": {
   "interpreter": {
    "hash": "a14e8f5ab3b28230cbcab04c68e03313c17b063e7274313dff80aca90639841b"
   }
  }
 },
 "nbformat": 4,
 "nbformat_minor": 2
}
