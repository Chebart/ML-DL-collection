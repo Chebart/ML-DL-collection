{
 "cells": [
  {
   "cell_type": "code",
   "execution_count": 22,
   "metadata": {},
   "outputs": [],
   "source": [
    "import torch\n",
    "import torch.nn as nn"
   ]
  },
  {
   "cell_type": "code",
   "execution_count": 23,
   "metadata": {},
   "outputs": [],
   "source": [
    "# Densenet block:\n",
    "\n",
    "# batchnorm\n",
    "# ReLU\n",
    "# convolution 1х1\n",
    "\n",
    "# batchnorm\n",
    "# ReLU\n",
    "# convolution 3х3\n",
    "\n",
    "class DenseBlockLayer(nn.Module):\n",
    "    def __init__(self,in_channels,out_channels,identity_downsample=False):\n",
    "        super(DenseBlockLayer,self).__init__()\n",
    "        self.inter_planes = 4*out_channels\n",
    "\n",
    "        self.bn1 = nn.BatchNorm2d(in_channels)\n",
    "        self.conv1 = nn.Conv2d(in_channels,self.inter_planes,kernel_size=1,stride=1)\n",
    "        self.bn2 = nn.BatchNorm2d(self.inter_planes)\n",
    "        self.conv2 = nn.Conv2d(self.inter_planes,out_channels,kernel_size=3,stride=1,padding=1)\n",
    "        self.relu = nn.ReLU(inplace=True)\n",
    "        self.identity_downsample = identity_downsample\n",
    "        self.concatenation = None\n",
    "\n",
    "    # x out_channels -> x*4 out_channels, x*4 out_channels -> x out_channels\n",
    "    def forward(self,x):\n",
    "      self.concatenation = x.clone()\n",
    "\n",
    "      x = self.conv1(self.relu(self.bn1(x)))\n",
    "      x = self.conv2(self.relu(self.bn2(x)))\n",
    "\n",
    "      if self.identity_downsample:\n",
    "        x = torch.cat((x,self.concatenation), dim=1)\n",
    "\n",
    "      return x"
   ]
  },
  {
   "cell_type": "code",
   "execution_count": 24,
   "metadata": {},
   "outputs": [],
   "source": [
    "# This layer should reduce the number of channels by dividing them into 2\n",
    "class TransitionLayer(nn.Module):\n",
    "    def __init__(self,in_channels,out_channels):\n",
    "        super(TransitionLayer,self).__init__()\n",
    "        self.bn = nn.BatchNorm2d(in_channels)\n",
    "        self.relu = nn.ReLU(inplace=True)\n",
    "        self.conv = nn.Conv2d(in_channels,out_channels,kernel_size=1,stride=1)\n",
    "        self.avg_pool = nn.AvgPool2d(kernel_size=2,stride=2)\n",
    "\n",
    "    def forward(self,x):\n",
    "        x = self.avg_pool(self.conv(self.relu(self.bn(x))))\n",
    "        return x"
   ]
  },
  {
   "cell_type": "code",
   "execution_count": 25,
   "metadata": {},
   "outputs": [],
   "source": [
    "#The main difference with ResNet is that all previous layers are concatenated with the current one.\n",
    "class DenseNet(nn.Module):\n",
    "    def __init__(self,block,layers, image_channels, num_classes):\n",
    "        super(DenseNet,self).__init__()\n",
    "        self.out_channels = 32\n",
    "        # First block like in ResNet,\n",
    "        # it has 7х7 convolutional\n",
    "        self.conv1 = nn.Conv2d(image_channels,self.out_channels,kernel_size=7,stride=2)\n",
    "        self.bn1 = nn.BatchNorm2d(self.out_channels)\n",
    "        self.relu = nn.ReLU()\n",
    "        self.maxpool = nn.MaxPool2d(kernel_size=3,stride=2)\n",
    "\n",
    "        #DenseBlock layers\n",
    "        self.layer1 = self.make_block(block,layers[0],in_channels=self.out_channels)\n",
    "        self.layer2 = self.make_block(block,layers[1],in_channels=96)\n",
    "        self.layer3 = self.make_block(block,layers[2],in_channels=224)\n",
    "        self.layer4 = self.make_block(block,layers[3],in_channels=480)\n",
    "\n",
    "        # Before fully connected layer we use AveregePooling\n",
    "        self.glob_avg_pool = nn.AdaptiveAvgPool2d((7,7))\n",
    "        self.fc = nn.Linear(480*7*7,num_classes)\n",
    "\n",
    "\n",
    "    # Layer creation function\n",
    "    def make_block(self, block, num_residual_blocks,in_channels):\n",
    "        layers = []\n",
    "    \n",
    "        # The 1st layer of each block does not have concatenation\n",
    "        layers.append(block(in_channels,in_channels))\n",
    "\n",
    "        # Each layer increases input by 32\n",
    "        for i in range(num_residual_blocks-1):\n",
    "            layers.append(block(in_channels,32,identity_downsample=True))\n",
    "            in_channels+=32\n",
    "\n",
    "        layers.append(TransitionLayer(in_channels,in_channels//2))\n",
    "        return nn.Sequential(*layers)\n",
    "\n",
    "    def forward(self,x):\n",
    "        x = self.maxpool(self.relu(self.bn1(self.conv1(x))))\n",
    "\n",
    "        x = self.layer1(x)\n",
    "        x = self.layer2(x)\n",
    "        x = self.layer3(x)\n",
    "        x = self.layer4(x)\n",
    "\n",
    "        x = self.glob_avg_pool(x)\n",
    "        x = x.reshape(x.shape[0],-1)\n",
    "        x = self.fc(x)\n",
    "        return x\n",
    "\n",
    "    "
   ]
  },
  {
   "cell_type": "code",
   "execution_count": 26,
   "metadata": {},
   "outputs": [],
   "source": [
    "# DenseNet-121\n",
    "def DenseNet121(img_channels=3,num_classes=1000):\n",
    "    return DenseNet(DenseBlockLayer,[6,12,24,16],img_channels,num_classes)"
   ]
  },
  {
   "cell_type": "code",
   "execution_count": 27,
   "metadata": {},
   "outputs": [],
   "source": [
    "# Test\n",
    "def test():\n",
    "  net = DenseNet121()\n",
    "  x = torch.rand(2,3,224,224)\n",
    "  y = net(x)\n",
    "  print(y.shape)"
   ]
  },
  {
   "cell_type": "code",
   "execution_count": 28,
   "metadata": {},
   "outputs": [
    {
     "name": "stdout",
     "output_type": "stream",
     "text": [
      "torch.Size([2, 1000])\n"
     ]
    }
   ],
   "source": [
    "test()"
   ]
  }
 ],
 "metadata": {
  "interpreter": {
   "hash": "e205ded580d7b0d767dc6df348d09affc283176f4ed765a6df5bee7c00630844"
  },
  "kernelspec": {
   "display_name": "Python 3.9.6 64-bit (system)",
   "language": "python",
   "name": "python3"
  },
  "language_info": {
   "codemirror_mode": {
    "name": "ipython",
    "version": 3
   },
   "file_extension": ".py",
   "mimetype": "text/x-python",
   "name": "python",
   "nbconvert_exporter": "python",
   "pygments_lexer": "ipython3",
   "version": "3.10.0"
  },
  "orig_nbformat": 4
 },
 "nbformat": 4,
 "nbformat_minor": 2
}
